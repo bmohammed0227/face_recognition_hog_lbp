{
  "cells": [
    {
      "cell_type": "code",
      "source": [
        "import cv2\n",
        "import matplotlib.pyplot as plt\n",
        "import numpy as np\n",
        "from math import atan, pi\n",
        "import pickle\n",
        "from os import walk"
      ],
      "outputs": [],
      "execution_count": null,
      "metadata": {}
    },
    {
      "cell_type": "code",
      "source": [
        "# read descriptors\n",
        "descriptors_directory = 'descriptors/'\n",
        "_, _, descriptors_names = next(walk(descriptors_directory))\n",
        "descriptors = []\n",
        "for descriptor in descriptors_names:\n",
        "    with open(descriptors_directory+descriptor, 'rb') as file:\n",
        "        descriptors.append(pickle.load(file))"
      ],
      "outputs": [],
      "execution_count": null,
      "metadata": {}
    },
    {
      "cell_type": "code",
      "source": [
        "# read the image & convert to grayscale\n",
        "file_name = \"test4.jpg\"\n",
        "file_directory = \"face_test/\"\n",
        "face= cv2.imread(file_directory+file_name)\n",
        "face_gray = cv2.cvtColor(face, cv2.COLOR_BGR2GRAY)\n",
        "plt.imshow(face_gray, cmap=\"gray\")"
      ],
      "outputs": [],
      "execution_count": null,
      "metadata": {}
    },
    {
      "cell_type": "code",
      "source": [
        "# detect the face\n",
        "face_cascade = cv2.CascadeClassifier(\"haarcascade_frontalface_default.xml\")\n",
        "points = face_cascade.detectMultiScale(face_gray, 1.1, 15)\n",
        "print(points)\n",
        "# Draw a rectangle around the face\n",
        "num=0\n",
        "for (x, y, w, h) in points:\n",
        "    num+=1\n",
        "    if(num==len(points)):\n",
        "        cv2.rectangle(face_gray, (x, y), (x+w, y+h), (0, 255, 0), 2)\n",
        "    \n",
        "# Display the resulting image\n",
        "plt.imshow(face_gray, cmap=\"gray\")"
      ],
      "outputs": [],
      "execution_count": null,
      "metadata": {}
    },
    {
      "cell_type": "code",
      "source": [
        "# normalize the face\n",
        "for (x, y, w, h) in points:\n",
        "    face_croped = face_gray[y:y+h, x:x+w].copy()\n",
        "face_size = 128 # size of the face\n",
        "face_resized = cv2.resize(face_croped, (face_size,face_size))\n",
        "plt.imshow(face_resized, cmap=\"gray\")"
      ],
      "outputs": [],
      "execution_count": null,
      "metadata": {}
    },
    {
      "cell_type": "code",
      "source": [
        "window_size = 8 # size of the hog & lbp blocks\n",
        "w = face_resized.shape[1]\n",
        "h = face_resized.shape[0]"
      ],
      "outputs": [],
      "execution_count": null,
      "metadata": {}
    },
    {
      "cell_type": "code",
      "source": [
        "# ----LBP----\n",
        "\n",
        "# duplicate edges\n",
        "face_resized = cv2.vconcat([face_resized, face_resized[h-1:h, 0:w]]) # +1 row at the end\n",
        "face_resized = cv2.vconcat([face_resized[0:1, 0:w], face_resized]) # +1 row at the start\n",
        "face_resized = cv2.hconcat([face_resized, face_resized[0:h+2, w-1:w]]) # +1 column at the end \n",
        "face_resized = cv2.hconcat([face_resized[0:h+2, 0:1], face_resized]) # +1 column at the start \n",
        "\n",
        "# # calculate lbp\n",
        "img_lbp = np.zeros((h, w),np.uint8) \n",
        "for y in range(-1, h-1):\n",
        "    for x in range(-1, w-1):\n",
        "        mini_matrix =  face_resized[(y)+1:(y+3)+1, (x)+1:(x+3)+1].copy()\n",
        "        seuil = mini_matrix[1][1]\n",
        "        i1 = 1 if mini_matrix[0][0] >= seuil else 0\n",
        "        i2 = 2 if mini_matrix[0][1] >= seuil else 0\n",
        "        i3 = 4 if mini_matrix[0][2] >= seuil else 0\n",
        "        i4 = 8 if mini_matrix[1][2] >= seuil else 0\n",
        "        i5 = 16 if mini_matrix[2][2] >= seuil else 0\n",
        "        i6 = 32 if mini_matrix[2][1] >= seuil else 0\n",
        "        i7 = 64 if mini_matrix[2][0] >= seuil else 0\n",
        "        i8 = 128 if mini_matrix[1][1] >= seuil else 0\n",
        "        somme = i1 + i2 + i3 + i4 + i5 + i6 + i7 + i8\n",
        "        img_lbp[y+1][x+1] = somme\n",
        "plt.imshow(img_lbp, cmap='gray')\n",
        "\n",
        "# calculate lbp histograms\n",
        "list_hist_lbp = []\n",
        "for y in range(0, h, window_size):\n",
        "    for x in range(0, w, window_size):\n",
        "        block_lbp = img_lbp[y:y+window_size, x:x+window_size].copy()\n",
        "        list_hist_lbp.append(np.histogram( block_lbp,256,[0,256])[0])"
      ],
      "outputs": [],
      "execution_count": null,
      "metadata": {}
    },
    {
      "cell_type": "code",
      "source": [
        "# ----HOG----\n",
        "\n",
        "#calculate gx and gy and teta \n",
        "Gx = np.zeros((h, w),np.int8) \n",
        "Gy = np.zeros((h, w),np.int8) \n",
        "teta = np.zeros((h, w),np.int8) \n",
        "for y in range(-1, h-1):\n",
        "    for x in range(-1, w-1):\n",
        "        mini_matrix =  face_resized[(y)+1:(y+3)+1, (x)+1:(x+3)+1].copy()\n",
        "        Gx[y+1][x+1] = mini_matrix[1][0] - mini_matrix[1][2]\n",
        "        Gy[y+1][x+1] = mini_matrix[0][1] - mini_matrix[2][1]\n",
        "        gx = Gx[y+1][x+1]\n",
        "        gy = Gy[y+1][x+1]\n",
        "        if gx == 0:\n",
        "            if gy == 0:\n",
        "                teta[y+1][x+1] = -1\n",
        "            else :\n",
        "                if gy> 0:\n",
        "                    teta[y+1][x+1] = 2\n",
        "                else :\n",
        "                    teta[y+1][x+1] = 6\n",
        "        else :\n",
        "            val = atan(gy/gx)\n",
        "            degree_val = atan(val)*(180/pi)\n",
        "            degree_val_corrected = degree_val\n",
        "            if (gx<0):\n",
        "                degree_val_corrected += 180\n",
        "            if (gx>0 and gy<0):\n",
        "                degree_val_corrected += 360\n",
        "            if(337.5<=degree_val_corrected or degree_val_corrected<22.5):\n",
        "                teta[y+1][x+1] = 0\n",
        "            if(22.5<=degree_val_corrected<67.5):\n",
        "                teta[y+1][x+1] = 1\n",
        "            if(67.5<=degree_val_corrected<112.5):\n",
        "                teta[y+1][x+1] = 2\n",
        "            if(112.5<=degree_val_corrected<157.5):\n",
        "                teta[y+1][x+1] = 3\n",
        "            if(157.5<=degree_val_corrected<202.5):\n",
        "                teta[y+1][x+1] = 4\n",
        "            if(202.5<=degree_val_corrected<247.5):\n",
        "                teta[y+1][x+1] = 5\n",
        "            if(247.5<=degree_val_corrected<292.5):\n",
        "                teta[y+1][x+1] = 6\n",
        "            if(292.5<=degree_val_corrected<337.5):\n",
        "                teta[y+1][x+1] = 7\n",
        "plt.figure(figsize=(13,9))\n",
        "plt.subplot(2,1,1)\n",
        "plt.title(\"Gx\")\n",
        "plt.imshow(Gx, cmap=\"gray\")\n",
        "plt.subplot(2,1,2)\n",
        "plt.title(\"Gy\")\n",
        "plt.imshow(Gy, cmap=\"gray\")\n",
        "\n",
        "# calculate hog histograms\n",
        "list_hist_hog = []\n",
        "for y in range(0, h, window_size):\n",
        "    for x in range(0, w, window_size):\n",
        "        block_hog = teta[y:y+window_size, x:x+window_size].copy()\n",
        "        list_hist_hog.append(np.histogram( block_hog,256,[0,256])[0])"
      ],
      "outputs": [],
      "execution_count": null,
      "metadata": {}
    },
    {
      "cell_type": "code",
      "source": [
        "# concatenate hog & lbp\n",
        "descriptor_test = []\n",
        "for i in range(0, int((face_size/window_size)**2)):\n",
        "    descriptor_test.append((list_hist_lbp[i], list_hist_hog[i]))\n"
      ],
      "outputs": [],
      "execution_count": null,
      "metadata": {}
    },
    {
      "cell_type": "code",
      "source": [
        "is_authorized = False\n",
        "for i in range(len(descriptors)):\n",
        "    # compare the two descriptors\n",
        "    descriptor = descriptors[i]\n",
        "    mse_lbp = []\n",
        "    mse_hog = []\n",
        "    mse = 0;\n",
        "    for j in range(len(descriptor)):\n",
        "        mse_lbp.append(((descriptor[j][0]-descriptor_test[j][0])**2).mean())\n",
        "        mse_hog.append(((descriptor[j][1]-descriptor_test[j][1])**2).mean())\n",
        "        mse += mse_lbp[j] + mse_hog[j]\n",
        "    print(mse)\n",
        "    if(mse<700):\n",
        "        is_authorized = True\n",
        "if is_authorized:\n",
        "    print(\"YES\")\n",
        "else:\n",
        "    print(\"NO\")"
      ],
      "outputs": [],
      "execution_count": null,
      "metadata": {}
    },
    {
      "cell_type": "code",
      "source": [],
      "outputs": [],
      "execution_count": null,
      "metadata": {}
    },
    {
      "cell_type": "code",
      "source": [],
      "outputs": [],
      "execution_count": null,
      "metadata": {}
    }
  ],
  "metadata": {
    "kernelspec": {
      "display_name": "Python 3",
      "language": "python",
      "name": "python3"
    },
    "language_info": {
      "codemirror_mode": {
        "name": "ipython",
        "version": 3
      },
      "file_extension": ".py",
      "mimetype": "text/x-python",
      "name": "python",
      "nbconvert_exporter": "python",
      "pygments_lexer": "ipython3",
      "version": "3.8.5"
    },
    "nteract": {
      "version": "0.28.0"
    }
  },
  "nbformat": 4,
  "nbformat_minor": 4
}